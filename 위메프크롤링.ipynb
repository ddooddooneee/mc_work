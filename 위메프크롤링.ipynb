{
 "cells": [
  {
   "cell_type": "code",
   "execution_count": 1,
   "metadata": {},
   "outputs": [],
   "source": [
    "from selenium import webdriver\n",
    "from selenium.webdriver import Chrome\n",
    "from selenium.webdriver.common.by import By\n",
    "from selenium.webdriver.support.ui import WebDriverWait\n",
    "from selenium.webdriver.chrome.options import Options\n",
    "from selenium.webdriver.chrome.service import Service\n",
    "from selenium.webdriver.support import expected_conditions as EC\n",
    "from webdriver_manager.chrome import ChromeDriverManager\n",
    "\n",
    "from urllib.parse import quote\n",
    "import chromedriver_autoinstaller\n",
    "from bs4 import BeautifulSoup\n",
    "import re\n",
    "import pandas as pd\n",
    "import time"
   ]
  },
  {
   "cell_type": "code",
   "execution_count": 2,
   "metadata": {},
   "outputs": [],
   "source": [
    "url_list=list(['https://front.wemakeprice.com/category/division/2100502','https://front.wemakeprice.com/category/section/3100093','https://front.wemakeprice.com/category/section/3100092'])\n",
    "cat_name=['김치냉장고','스탠드형','뚜껑형']"
   ]
  },
  {
   "cell_type": "code",
   "execution_count": null,
   "metadata": {},
   "outputs": [],
   "source": [
    "from tqdm import tqdm\n",
    "chrome_options=webdriver.ChromeOptions()\n",
    "chrome_options.add_argument(\"user-agent=Mozilla/5.0 (Macintosh; Intel Mac OS X 10_12_6) AppleWebKit/537.36 (KHTML, like Gecko) Chrome/61.0.3163.100 Safari/537.36\")\n",
    "driver = webdriver.Chrome(service = Service(f\"C:/Users/user/anaconda3/Lib/site-packages/chromedriver_autoinstaller/115/chromedriver.exe\"), options = chrome_options)\n",
    "\n",
    "for idx in range(len(cat_name)):\n",
    "    wm_df=pd.DataFrame()\n",
    "        # 임시 저장 데이터프레임\n",
    "    wm_df_final=pd.DataFrame()\n",
    "        # 최종 데이터프레임\n",
    "    \n",
    "    # 리스트 값을 순차적으로 순회하여 변수 지정\n",
    "    wm_url=url_list[idx]\n",
    "    wm_cat=cat_name[idx]\n",
    "\n",
    "    driver.implicitly_wait(2)\n",
    "\n",
    "    driver.get(wm_url)\n",
    "        # url 방문\n",
    "    driver.implicitly_wait(2)\n",
    "\n",
    "    for pg in range(2,12):\n",
    "        time.sleep(3)\n",
    "        real_pg=pg-1\n",
    "            # (2,12) -> (1,11) : 10페이지까지만 수집\n",
    "        print(pg)\n",
    "\n",
    "        for i in tqdm(range(1,100)):\n",
    "                # 한페이지에 상품 100개 존재\n",
    "            try:\n",
    "                # url수집\n",
    "                ele = driver.find_element(By.XPATH, f'//*[@id=\"list_lists\"]/div/div[{i}]/a')\n",
    "                urls = ele.get_attribute('href')\n",
    "\n",
    "                # 상품명 수집\n",
    "                prd=driver.find_element(By.XPATH,f'//*[@id=\"list_lists\"]/div/div[{i}]/a/div/div[2]/div[2]/p')\n",
    "                prdt_nm=prd.text\n",
    "\n",
    "\n",
    "                new_df=pd.DataFrame([[prdt_nm,urls,real_pg]],columns=['상품명','url','페이지'])\n",
    "                wm_df=pd.concat([wm_df,new_df])\n",
    "            except:\n",
    "                break\n",
    "        \n",
    "        wm_df_final=pd.concat([wm_df_final,wm_df])\n",
    "        \n",
    "        # 다음페이지 넘어가기\n",
    "        try :\n",
    "            driver.find_element(By.XPATH,f'//*[@id=\"_contents\"]/div/div/div[2]/div[2]/div[5]/a[{pg}]').click()\n",
    "        except:\n",
    "            break\n",
    "\n",
    "    wm_df_final = wm_df_final.reset_index(drop=True)\n",
    "\n",
    "    # 파일로 저장\n",
    "    if idx==0:\n",
    "        file_name='G://다른 컴퓨터//내 MacBook Air//MC//위메프/depth3//' + wm_cat + '.csv'\n",
    "    else:\n",
    "        file_name='G://다른 컴퓨터//내 MacBook Air//MC//위메프//depth4//' + wm_cat + '.csv'\n",
    "\n",
    "    wm_df.to_csv(file_name,index=False,encoding='utf-8-sig')\n",
    "    print(f'{\"-\"*30} {wm_cat} 수집 완료 {\"-\"*30}')"
   ]
  }
 ],
 "metadata": {
  "kernelspec": {
   "display_name": "base",
   "language": "python",
   "name": "python3"
  },
  "language_info": {
   "codemirror_mode": {
    "name": "ipython",
    "version": 3
   },
   "file_extension": ".py",
   "mimetype": "text/x-python",
   "name": "python",
   "nbconvert_exporter": "python",
   "pygments_lexer": "ipython3",
   "version": "3.11.5"
  }
 },
 "nbformat": 4,
 "nbformat_minor": 2
}
